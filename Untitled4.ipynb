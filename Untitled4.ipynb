{
  "nbformat": 4,
  "nbformat_minor": 0,
  "metadata": {
    "colab": {
      "provenance": [],
      "authorship_tag": "ABX9TyO+LZ8169VgI+D29Fy2P6pf",
      "include_colab_link": true
    },
    "kernelspec": {
      "name": "python3",
      "display_name": "Python 3"
    },
    "language_info": {
      "name": "python"
    }
  },
  "cells": [
    {
      "cell_type": "markdown",
      "metadata": {
        "id": "view-in-github",
        "colab_type": "text"
      },
      "source": [
        "<a href=\"https://colab.research.google.com/github/Sidolchondra/sidrickolchodra-DV-BSIS2-LAB6-Olchondra/blob/main/Untitled4.ipynb\" target=\"_parent\"><img src=\"https://colab.research.google.com/assets/colab-badge.svg\" alt=\"Open In Colab\"/></a>"
      ]
    },
    {
      "cell_type": "code",
      "execution_count": 1,
      "metadata": {
        "colab": {
          "base_uri": "https://localhost:8080/"
        },
        "id": "HVTRDOXZyUFx",
        "outputId": "3f721619-0b7c-4535-a75f-127831e0398c"
      },
      "outputs": [
        {
          "output_type": "stream",
          "name": "stdout",
          "text": [
            "[3, 7, 4, 2]\n",
            "[3, True, 'Sidrick', 2.0]\n",
            "[3, 7, 4, 2]\n",
            "[3, 7, 4, 2]\n",
            "[3, 7]\n"
          ]
        },
        {
          "output_type": "execute_result",
          "data": {
            "text/plain": [
              "[7, 4, 2]"
            ]
          },
          "metadata": {},
          "execution_count": 1
        }
      ],
      "source": [
        "# Define a list \n",
        "z = [3, 7, 4, 2]\n",
        "print(z)\n",
        "# Define a list\n",
        "heterogenousElements = [3, True, 'Sidrick', 2.0]\n",
        "print(heterogenousElements)\n",
        "# Access the first item of a list at index 0 \n",
        "z [0]\n",
        "print(z)\n",
        "z[-1]\n",
        "print(z)\n",
        "print(z [0:2])\n",
        "z [:3]\n",
        "z [1:]"
      ]
    },
    {
      "cell_type": "code",
      "source": [
        "\n",
        "# Define a list \n",
        "z = [3, 7, 4, 2]\n",
        "print(z) \n",
        "# Define a list\n",
        "heterogenousElements = [3, True, 'SIDRICK', 2.0]\n",
        "print(heterogenousElements)\n",
        "# Access the first item of a list at index 0 \n",
        "z [0]\n",
        "print(z)\n",
        "z[-1]\n",
        "print(z)\n",
        "print(z [0:2])\n",
        "z [:3]\n",
        "z [1:]"
      ],
      "metadata": {
        "colab": {
          "base_uri": "https://localhost:8080/"
        },
        "id": "2PCOUOXIcEHc",
        "outputId": "2c503669-b526-4758-db3b-590bfa60d5e3"
      },
      "execution_count": 2,
      "outputs": [
        {
          "output_type": "stream",
          "name": "stdout",
          "text": [
            "[3, 7, 4, 2]\n",
            "[3, True, 'SIDRICK', 2.0]\n",
            "[3, 7, 4, 2]\n",
            "[3, 7, 4, 2]\n",
            "[3, 7]\n"
          ]
        },
        {
          "output_type": "execute_result",
          "data": {
            "text/plain": [
              "[7, 4, 2]"
            ]
          },
          "metadata": {},
          "execution_count": 2
        }
      ]
    }
  ]
}